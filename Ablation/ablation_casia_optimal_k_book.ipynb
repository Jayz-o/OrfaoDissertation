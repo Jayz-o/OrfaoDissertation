{
 "cells": [
  {
   "cell_type": "code",
   "execution_count": 1,
   "metadata": {
    "collapsed": true,
    "pycharm": {
     "name": "#%%\n"
    }
   },
   "outputs": [],
   "source": [
    "import pandas as pd\n",
    "import pickle\n",
    "import os"
   ]
  },
  {
   "cell_type": "code",
   "execution_count": 2,
   "outputs": [],
   "source": [
    "dataset_root = \"/home/jarred/Documents/Datasets/CASIA_KF\"\n",
    "csv_name=\"casia.csv\"\n",
    "\n",
    "pickle_name = \"k_vs_sil.pkl\"\n",
    "path_feature_dic_name=\"path_feature_dic.pkl\""
   ],
   "metadata": {
    "collapsed": false,
    "pycharm": {
     "name": "#%%\n"
    }
   }
  },
  {
   "cell_type": "code",
   "execution_count": 5,
   "outputs": [
    {
     "data": {
      "text/plain": "    usage_type ground_truth  subject_number video_name  video_frames  \\\n360      train        spoof               1   HR_4.avi           273   \n361      train        spoof               1   HR_2.avi           247   \n362      train        spoof               1   HR_3.avi            80   \n363      train        spoof               1      3.avi           328   \n364      train        spoof               1      4.avi           202   \n\n     frames_present attack_category      directory_path  optimal_k  average_k  \n360              15            HR_R  train/spoof/1/HR_4         53         15  \n361              15            HR_W  train/spoof/1/HR_2          6         15  \n362               3            HR_C  train/spoof/1/HR_3          2          3  \n363              28              W1     train/spoof/1/3          3         28  \n364              25              W2     train/spoof/1/4          3         25  ",
      "text/html": "<div>\n<style scoped>\n    .dataframe tbody tr th:only-of-type {\n        vertical-align: middle;\n    }\n\n    .dataframe tbody tr th {\n        vertical-align: top;\n    }\n\n    .dataframe thead th {\n        text-align: right;\n    }\n</style>\n<table border=\"1\" class=\"dataframe\">\n  <thead>\n    <tr style=\"text-align: right;\">\n      <th></th>\n      <th>usage_type</th>\n      <th>ground_truth</th>\n      <th>subject_number</th>\n      <th>video_name</th>\n      <th>video_frames</th>\n      <th>frames_present</th>\n      <th>attack_category</th>\n      <th>directory_path</th>\n      <th>optimal_k</th>\n      <th>average_k</th>\n    </tr>\n  </thead>\n  <tbody>\n    <tr>\n      <th>360</th>\n      <td>train</td>\n      <td>spoof</td>\n      <td>1</td>\n      <td>HR_4.avi</td>\n      <td>273</td>\n      <td>15</td>\n      <td>HR_R</td>\n      <td>train/spoof/1/HR_4</td>\n      <td>53</td>\n      <td>15</td>\n    </tr>\n    <tr>\n      <th>361</th>\n      <td>train</td>\n      <td>spoof</td>\n      <td>1</td>\n      <td>HR_2.avi</td>\n      <td>247</td>\n      <td>15</td>\n      <td>HR_W</td>\n      <td>train/spoof/1/HR_2</td>\n      <td>6</td>\n      <td>15</td>\n    </tr>\n    <tr>\n      <th>362</th>\n      <td>train</td>\n      <td>spoof</td>\n      <td>1</td>\n      <td>HR_3.avi</td>\n      <td>80</td>\n      <td>3</td>\n      <td>HR_C</td>\n      <td>train/spoof/1/HR_3</td>\n      <td>2</td>\n      <td>3</td>\n    </tr>\n    <tr>\n      <th>363</th>\n      <td>train</td>\n      <td>spoof</td>\n      <td>1</td>\n      <td>3.avi</td>\n      <td>328</td>\n      <td>28</td>\n      <td>W1</td>\n      <td>train/spoof/1/3</td>\n      <td>3</td>\n      <td>28</td>\n    </tr>\n    <tr>\n      <th>364</th>\n      <td>train</td>\n      <td>spoof</td>\n      <td>1</td>\n      <td>4.avi</td>\n      <td>202</td>\n      <td>25</td>\n      <td>W2</td>\n      <td>train/spoof/1/4</td>\n      <td>3</td>\n      <td>25</td>\n    </tr>\n  </tbody>\n</table>\n</div>"
     },
     "execution_count": 5,
     "metadata": {},
     "output_type": "execute_result"
    }
   ],
   "source": [
    "dataset_frame = pd.read_csv(os.path.join(dataset_root, csv_name))\n",
    "dataset_frame = dataset_frame.query(\"usage_type == 'train'\")\n",
    "dataset_frame.head()"
   ],
   "metadata": {
    "collapsed": false,
    "pycharm": {
     "name": "#%%\n"
    }
   }
  },
  {
   "cell_type": "code",
   "execution_count": 6,
   "outputs": [
    {
     "name": "stdout",
     "output_type": "stream",
     "text": [
      "['HR_R' 'HR_W' 'HR_C' 'W1' 'W2' 'C2' 'R1' 'C1' 'R2' 'N1' 'HR_N' 'N2']\n"
     ]
    }
   ],
   "source": [
    "categories = dataset_frame['attack_category'].unique()\n",
    "print(categories)"
   ],
   "metadata": {
    "collapsed": false,
    "pycharm": {
     "name": "#%%\n"
    }
   }
  },
  {
   "cell_type": "code",
   "execution_count": 54,
   "outputs": [],
   "source": [
    "def find_max_k(dataset_root, directory_path, pickle_name):\n",
    "    folder_path = os.path.join(dataset_root, directory_path)\n",
    "    with open(os.path.join(folder_path, pickle_name), \"rb\") as f:\n",
    "        k_vs_sil = pickle.load(f)\n",
    "    max_score = max(k_vs_sil[1])\n",
    "    max_index = k_vs_sil[1].index(max_score)\n",
    "    print(k_vs_sil[0])\n",
    "    return k_vs_sil[0][max_index]"
   ],
   "metadata": {
    "collapsed": false,
    "pycharm": {
     "name": "#%%\n"
    }
   }
  },
  {
   "cell_type": "code",
   "execution_count": 7,
   "outputs": [],
   "source": [
    "# frames = []\n",
    "# for category in categories:\n",
    "#     category_frame = dataset_frame.query(f\"attack_category == '{category}'\")\n",
    "#     copy = category_frame.copy()\n",
    "#     copy[\"optimal_k\"] = category_frame.apply(lambda x: find_max_k(dataset_root, x['directory_path'], pickle_name), axis=1)\n",
    "#     frames.append(copy)\n",
    "# frame = pd.concat(frames)\n",
    "metrics = dataset_frame.groupby(['attack_category'])\n",
    "metric_frame = metrics.describe()\n",
    "temp = metric_frame.iloc[:,24:]\n",
    "temp3 = temp.to_dict()\n",
    "category_mean_dic = temp3[('optimal_k', 'mean')]"
   ],
   "metadata": {
    "collapsed": false,
    "pycharm": {
     "name": "#%%\n"
    }
   }
  },
  {
   "cell_type": "code",
   "execution_count": 8,
   "outputs": [
    {
     "data": {
      "text/plain": "                optimal_k                                                    \\\n                    count   mean        std  min    25%   50%    75%    max   \nattack_category                                                               \nC1                   20.0   2.05   0.223607  2.0   2.00   2.0   2.00    3.0   \nC2                   20.0   2.15   0.489360  2.0   2.00   2.0   2.00    4.0   \nHR_C                 20.0   3.05   4.236123  2.0   2.00   2.0   2.00   21.0   \nHR_N                 20.0  12.25  20.175219  2.0   2.00   3.0   5.25   68.0   \nHR_R                 20.0  18.15  29.533701  2.0   2.00   2.5  14.50   85.0   \nHR_W                 20.0  20.70  28.541936  2.0   2.75   4.5  39.75  101.0   \nN1                   20.0  14.20  14.954668  2.0   2.00   5.0  23.25   42.0   \nN2                   20.0   9.55  16.772393  2.0   2.00   2.5   4.25   54.0   \nR1                   20.0  14.05  20.836393  2.0   2.00   2.5  18.25   63.0   \nR2                   20.0  10.75  13.009612  2.0   2.00   2.0  21.25   40.0   \nW1                   20.0  32.75  21.425207  2.0  20.25  31.5  49.50   73.0   \nW2                   20.0  17.35  30.877133  2.0   2.00   3.0   4.50   95.0   \n\n                average_k                                           \n                    count  mean  std   min   25%   50%   75%   max  \nattack_category                                                     \nC1                   20.0   2.0  0.0   2.0   2.0   2.0   2.0   2.0  \nC2                   20.0   2.0  0.0   2.0   2.0   2.0   2.0   2.0  \nHR_C                 20.0   3.0  0.0   3.0   3.0   3.0   3.0   3.0  \nHR_N                 20.0  13.0  0.0  13.0  13.0  13.0  13.0  13.0  \nHR_R                 20.0  15.0  0.0  15.0  15.0  15.0  15.0  15.0  \nHR_W                 20.0  15.0  0.0  15.0  15.0  15.0  15.0  15.0  \nN1                   20.0  15.0  0.0  15.0  15.0  15.0  15.0  15.0  \nN2                   20.0  13.0  0.0  13.0  13.0  13.0  13.0  13.0  \nR1                   20.0  12.0  0.0  12.0  12.0  12.0  12.0  12.0  \nR2                   20.0  13.0  0.0  13.0  13.0  13.0  13.0  13.0  \nW1                   20.0  28.0  0.0  28.0  28.0  28.0  28.0  28.0  \nW2                   20.0  25.0  0.0  25.0  25.0  25.0  25.0  25.0  ",
      "text/html": "<div>\n<style scoped>\n    .dataframe tbody tr th:only-of-type {\n        vertical-align: middle;\n    }\n\n    .dataframe tbody tr th {\n        vertical-align: top;\n    }\n\n    .dataframe thead tr th {\n        text-align: left;\n    }\n\n    .dataframe thead tr:last-of-type th {\n        text-align: right;\n    }\n</style>\n<table border=\"1\" class=\"dataframe\">\n  <thead>\n    <tr>\n      <th></th>\n      <th colspan=\"8\" halign=\"left\">optimal_k</th>\n      <th colspan=\"8\" halign=\"left\">average_k</th>\n    </tr>\n    <tr>\n      <th></th>\n      <th>count</th>\n      <th>mean</th>\n      <th>std</th>\n      <th>min</th>\n      <th>25%</th>\n      <th>50%</th>\n      <th>75%</th>\n      <th>max</th>\n      <th>count</th>\n      <th>mean</th>\n      <th>std</th>\n      <th>min</th>\n      <th>25%</th>\n      <th>50%</th>\n      <th>75%</th>\n      <th>max</th>\n    </tr>\n    <tr>\n      <th>attack_category</th>\n      <th></th>\n      <th></th>\n      <th></th>\n      <th></th>\n      <th></th>\n      <th></th>\n      <th></th>\n      <th></th>\n      <th></th>\n      <th></th>\n      <th></th>\n      <th></th>\n      <th></th>\n      <th></th>\n      <th></th>\n      <th></th>\n    </tr>\n  </thead>\n  <tbody>\n    <tr>\n      <th>C1</th>\n      <td>20.0</td>\n      <td>2.05</td>\n      <td>0.223607</td>\n      <td>2.0</td>\n      <td>2.00</td>\n      <td>2.0</td>\n      <td>2.00</td>\n      <td>3.0</td>\n      <td>20.0</td>\n      <td>2.0</td>\n      <td>0.0</td>\n      <td>2.0</td>\n      <td>2.0</td>\n      <td>2.0</td>\n      <td>2.0</td>\n      <td>2.0</td>\n    </tr>\n    <tr>\n      <th>C2</th>\n      <td>20.0</td>\n      <td>2.15</td>\n      <td>0.489360</td>\n      <td>2.0</td>\n      <td>2.00</td>\n      <td>2.0</td>\n      <td>2.00</td>\n      <td>4.0</td>\n      <td>20.0</td>\n      <td>2.0</td>\n      <td>0.0</td>\n      <td>2.0</td>\n      <td>2.0</td>\n      <td>2.0</td>\n      <td>2.0</td>\n      <td>2.0</td>\n    </tr>\n    <tr>\n      <th>HR_C</th>\n      <td>20.0</td>\n      <td>3.05</td>\n      <td>4.236123</td>\n      <td>2.0</td>\n      <td>2.00</td>\n      <td>2.0</td>\n      <td>2.00</td>\n      <td>21.0</td>\n      <td>20.0</td>\n      <td>3.0</td>\n      <td>0.0</td>\n      <td>3.0</td>\n      <td>3.0</td>\n      <td>3.0</td>\n      <td>3.0</td>\n      <td>3.0</td>\n    </tr>\n    <tr>\n      <th>HR_N</th>\n      <td>20.0</td>\n      <td>12.25</td>\n      <td>20.175219</td>\n      <td>2.0</td>\n      <td>2.00</td>\n      <td>3.0</td>\n      <td>5.25</td>\n      <td>68.0</td>\n      <td>20.0</td>\n      <td>13.0</td>\n      <td>0.0</td>\n      <td>13.0</td>\n      <td>13.0</td>\n      <td>13.0</td>\n      <td>13.0</td>\n      <td>13.0</td>\n    </tr>\n    <tr>\n      <th>HR_R</th>\n      <td>20.0</td>\n      <td>18.15</td>\n      <td>29.533701</td>\n      <td>2.0</td>\n      <td>2.00</td>\n      <td>2.5</td>\n      <td>14.50</td>\n      <td>85.0</td>\n      <td>20.0</td>\n      <td>15.0</td>\n      <td>0.0</td>\n      <td>15.0</td>\n      <td>15.0</td>\n      <td>15.0</td>\n      <td>15.0</td>\n      <td>15.0</td>\n    </tr>\n    <tr>\n      <th>HR_W</th>\n      <td>20.0</td>\n      <td>20.70</td>\n      <td>28.541936</td>\n      <td>2.0</td>\n      <td>2.75</td>\n      <td>4.5</td>\n      <td>39.75</td>\n      <td>101.0</td>\n      <td>20.0</td>\n      <td>15.0</td>\n      <td>0.0</td>\n      <td>15.0</td>\n      <td>15.0</td>\n      <td>15.0</td>\n      <td>15.0</td>\n      <td>15.0</td>\n    </tr>\n    <tr>\n      <th>N1</th>\n      <td>20.0</td>\n      <td>14.20</td>\n      <td>14.954668</td>\n      <td>2.0</td>\n      <td>2.00</td>\n      <td>5.0</td>\n      <td>23.25</td>\n      <td>42.0</td>\n      <td>20.0</td>\n      <td>15.0</td>\n      <td>0.0</td>\n      <td>15.0</td>\n      <td>15.0</td>\n      <td>15.0</td>\n      <td>15.0</td>\n      <td>15.0</td>\n    </tr>\n    <tr>\n      <th>N2</th>\n      <td>20.0</td>\n      <td>9.55</td>\n      <td>16.772393</td>\n      <td>2.0</td>\n      <td>2.00</td>\n      <td>2.5</td>\n      <td>4.25</td>\n      <td>54.0</td>\n      <td>20.0</td>\n      <td>13.0</td>\n      <td>0.0</td>\n      <td>13.0</td>\n      <td>13.0</td>\n      <td>13.0</td>\n      <td>13.0</td>\n      <td>13.0</td>\n    </tr>\n    <tr>\n      <th>R1</th>\n      <td>20.0</td>\n      <td>14.05</td>\n      <td>20.836393</td>\n      <td>2.0</td>\n      <td>2.00</td>\n      <td>2.5</td>\n      <td>18.25</td>\n      <td>63.0</td>\n      <td>20.0</td>\n      <td>12.0</td>\n      <td>0.0</td>\n      <td>12.0</td>\n      <td>12.0</td>\n      <td>12.0</td>\n      <td>12.0</td>\n      <td>12.0</td>\n    </tr>\n    <tr>\n      <th>R2</th>\n      <td>20.0</td>\n      <td>10.75</td>\n      <td>13.009612</td>\n      <td>2.0</td>\n      <td>2.00</td>\n      <td>2.0</td>\n      <td>21.25</td>\n      <td>40.0</td>\n      <td>20.0</td>\n      <td>13.0</td>\n      <td>0.0</td>\n      <td>13.0</td>\n      <td>13.0</td>\n      <td>13.0</td>\n      <td>13.0</td>\n      <td>13.0</td>\n    </tr>\n    <tr>\n      <th>W1</th>\n      <td>20.0</td>\n      <td>32.75</td>\n      <td>21.425207</td>\n      <td>2.0</td>\n      <td>20.25</td>\n      <td>31.5</td>\n      <td>49.50</td>\n      <td>73.0</td>\n      <td>20.0</td>\n      <td>28.0</td>\n      <td>0.0</td>\n      <td>28.0</td>\n      <td>28.0</td>\n      <td>28.0</td>\n      <td>28.0</td>\n      <td>28.0</td>\n    </tr>\n    <tr>\n      <th>W2</th>\n      <td>20.0</td>\n      <td>17.35</td>\n      <td>30.877133</td>\n      <td>2.0</td>\n      <td>2.00</td>\n      <td>3.0</td>\n      <td>4.50</td>\n      <td>95.0</td>\n      <td>20.0</td>\n      <td>25.0</td>\n      <td>0.0</td>\n      <td>25.0</td>\n      <td>25.0</td>\n      <td>25.0</td>\n      <td>25.0</td>\n      <td>25.0</td>\n    </tr>\n  </tbody>\n</table>\n</div>"
     },
     "execution_count": 8,
     "metadata": {},
     "output_type": "execute_result"
    }
   ],
   "source": [
    "temp.head(20)"
   ],
   "metadata": {
    "collapsed": false,
    "pycharm": {
     "name": "#%%\n"
    }
   }
  },
  {
   "cell_type": "code",
   "execution_count": 26,
   "outputs": [
    {
     "data": {
      "text/plain": "                subject_number                                              \\\n                         count  mean       std  min  25%   50%   75%   max   \nattack_category                                                              \nC1                        50.0  13.5  8.096989  1.0  7.0  13.0  19.0  30.0   \nC2                        50.0  13.5  8.096989  1.0  7.0  13.0  19.0  30.0   \nHR_C                      50.0  13.5  8.096989  1.0  7.0  13.0  19.0  30.0   \nHR_N                      50.0  13.5  8.096989  1.0  7.0  13.0  19.0  30.0   \nHR_R                      50.0  13.5  8.096989  1.0  7.0  13.0  19.0  30.0   \nHR_W                      50.0  13.5  8.096989  1.0  7.0  13.0  19.0  30.0   \nN1                        50.0  13.5  8.096989  1.0  7.0  13.0  19.0  30.0   \nN2                        50.0  13.5  8.096989  1.0  7.0  13.0  19.0  30.0   \nR1                        50.0  13.5  8.096989  1.0  7.0  13.0  19.0  30.0   \nR2                        50.0  13.5  8.096989  1.0  7.0  13.0  19.0  30.0   \nW1                        50.0  13.5  8.096989  1.0  7.0  13.0  19.0  30.0   \nW2                        50.0  13.5  8.096989  1.0  7.0  13.0  19.0  30.0   \n\n                video_frames          ... frames_present        max_k         \\\n                       count    mean  ...            75%    max count   mean   \nattack_category                       ...                                      \nC1                      50.0  156.56  ...          55.75   77.0  50.0   2.14   \nC2                      50.0  196.60  ...         103.25  124.0  50.0   2.16   \nHR_C                    50.0  133.74  ...          31.75  111.0  50.0   2.60   \nHR_N                    50.0  207.18  ...          44.75   91.0  50.0  13.18   \nHR_R                    50.0  201.56  ...          46.75   85.0  50.0  14.54   \nHR_W                    50.0  251.18  ...          56.75  101.0  50.0  14.56   \nN1                      50.0  160.54  ...          39.75  137.0  50.0  14.72   \nN2                      50.0  168.76  ...          74.00  118.0  50.0  12.72   \nR1                      50.0  195.36  ...          36.00   76.0  50.0  12.20   \nR2                      50.0  152.06  ...          38.25   81.0  50.0  12.78   \nW1                      50.0  196.78  ...          60.00  114.0  50.0  27.66   \nW2                      50.0  197.32  ...          80.75  102.0  50.0  24.82   \n\n                                                          \n                       std  min  25%   50%    75%    max  \nattack_category                                           \nC1                0.350510  2.0  2.0   2.0   2.00    3.0  \nC2                0.421852  2.0  2.0   2.0   2.00    4.0  \nHR_C              2.710524  2.0  2.0   2.0   2.00   21.0  \nHR_N             19.958825  2.0  2.0   3.0  11.25   68.0  \nHR_R             22.337129  2.0  2.0   2.0  16.50   85.0  \nHR_W             23.892754  2.0  2.0   5.0   8.75  101.0  \nN1               16.466466  2.0  2.0   5.5  23.75   69.0  \nN2               24.462416  2.0  2.0   2.0   4.75  118.0  \nR1               18.127665  2.0  2.0   2.0  16.75   70.0  \nR2               16.486593  2.0  2.0   2.0  21.75   72.0  \nW1               24.719331  2.0  3.0  26.5  49.00   73.0  \nW2               34.930070  2.0  2.0   3.0  64.75   97.0  \n\n[12 rows x 32 columns]",
      "text/html": "<div>\n<style scoped>\n    .dataframe tbody tr th:only-of-type {\n        vertical-align: middle;\n    }\n\n    .dataframe tbody tr th {\n        vertical-align: top;\n    }\n\n    .dataframe thead tr th {\n        text-align: left;\n    }\n\n    .dataframe thead tr:last-of-type th {\n        text-align: right;\n    }\n</style>\n<table border=\"1\" class=\"dataframe\">\n  <thead>\n    <tr>\n      <th></th>\n      <th colspan=\"8\" halign=\"left\">subject_number</th>\n      <th colspan=\"2\" halign=\"left\">video_frames</th>\n      <th>...</th>\n      <th colspan=\"2\" halign=\"left\">frames_present</th>\n      <th colspan=\"8\" halign=\"left\">max_k</th>\n    </tr>\n    <tr>\n      <th></th>\n      <th>count</th>\n      <th>mean</th>\n      <th>std</th>\n      <th>min</th>\n      <th>25%</th>\n      <th>50%</th>\n      <th>75%</th>\n      <th>max</th>\n      <th>count</th>\n      <th>mean</th>\n      <th>...</th>\n      <th>75%</th>\n      <th>max</th>\n      <th>count</th>\n      <th>mean</th>\n      <th>std</th>\n      <th>min</th>\n      <th>25%</th>\n      <th>50%</th>\n      <th>75%</th>\n      <th>max</th>\n    </tr>\n    <tr>\n      <th>attack_category</th>\n      <th></th>\n      <th></th>\n      <th></th>\n      <th></th>\n      <th></th>\n      <th></th>\n      <th></th>\n      <th></th>\n      <th></th>\n      <th></th>\n      <th></th>\n      <th></th>\n      <th></th>\n      <th></th>\n      <th></th>\n      <th></th>\n      <th></th>\n      <th></th>\n      <th></th>\n      <th></th>\n      <th></th>\n    </tr>\n  </thead>\n  <tbody>\n    <tr>\n      <th>C1</th>\n      <td>50.0</td>\n      <td>13.5</td>\n      <td>8.096989</td>\n      <td>1.0</td>\n      <td>7.0</td>\n      <td>13.0</td>\n      <td>19.0</td>\n      <td>30.0</td>\n      <td>50.0</td>\n      <td>156.56</td>\n      <td>...</td>\n      <td>55.75</td>\n      <td>77.0</td>\n      <td>50.0</td>\n      <td>2.14</td>\n      <td>0.350510</td>\n      <td>2.0</td>\n      <td>2.0</td>\n      <td>2.0</td>\n      <td>2.00</td>\n      <td>3.0</td>\n    </tr>\n    <tr>\n      <th>C2</th>\n      <td>50.0</td>\n      <td>13.5</td>\n      <td>8.096989</td>\n      <td>1.0</td>\n      <td>7.0</td>\n      <td>13.0</td>\n      <td>19.0</td>\n      <td>30.0</td>\n      <td>50.0</td>\n      <td>196.60</td>\n      <td>...</td>\n      <td>103.25</td>\n      <td>124.0</td>\n      <td>50.0</td>\n      <td>2.16</td>\n      <td>0.421852</td>\n      <td>2.0</td>\n      <td>2.0</td>\n      <td>2.0</td>\n      <td>2.00</td>\n      <td>4.0</td>\n    </tr>\n    <tr>\n      <th>HR_C</th>\n      <td>50.0</td>\n      <td>13.5</td>\n      <td>8.096989</td>\n      <td>1.0</td>\n      <td>7.0</td>\n      <td>13.0</td>\n      <td>19.0</td>\n      <td>30.0</td>\n      <td>50.0</td>\n      <td>133.74</td>\n      <td>...</td>\n      <td>31.75</td>\n      <td>111.0</td>\n      <td>50.0</td>\n      <td>2.60</td>\n      <td>2.710524</td>\n      <td>2.0</td>\n      <td>2.0</td>\n      <td>2.0</td>\n      <td>2.00</td>\n      <td>21.0</td>\n    </tr>\n    <tr>\n      <th>HR_N</th>\n      <td>50.0</td>\n      <td>13.5</td>\n      <td>8.096989</td>\n      <td>1.0</td>\n      <td>7.0</td>\n      <td>13.0</td>\n      <td>19.0</td>\n      <td>30.0</td>\n      <td>50.0</td>\n      <td>207.18</td>\n      <td>...</td>\n      <td>44.75</td>\n      <td>91.0</td>\n      <td>50.0</td>\n      <td>13.18</td>\n      <td>19.958825</td>\n      <td>2.0</td>\n      <td>2.0</td>\n      <td>3.0</td>\n      <td>11.25</td>\n      <td>68.0</td>\n    </tr>\n    <tr>\n      <th>HR_R</th>\n      <td>50.0</td>\n      <td>13.5</td>\n      <td>8.096989</td>\n      <td>1.0</td>\n      <td>7.0</td>\n      <td>13.0</td>\n      <td>19.0</td>\n      <td>30.0</td>\n      <td>50.0</td>\n      <td>201.56</td>\n      <td>...</td>\n      <td>46.75</td>\n      <td>85.0</td>\n      <td>50.0</td>\n      <td>14.54</td>\n      <td>22.337129</td>\n      <td>2.0</td>\n      <td>2.0</td>\n      <td>2.0</td>\n      <td>16.50</td>\n      <td>85.0</td>\n    </tr>\n    <tr>\n      <th>HR_W</th>\n      <td>50.0</td>\n      <td>13.5</td>\n      <td>8.096989</td>\n      <td>1.0</td>\n      <td>7.0</td>\n      <td>13.0</td>\n      <td>19.0</td>\n      <td>30.0</td>\n      <td>50.0</td>\n      <td>251.18</td>\n      <td>...</td>\n      <td>56.75</td>\n      <td>101.0</td>\n      <td>50.0</td>\n      <td>14.56</td>\n      <td>23.892754</td>\n      <td>2.0</td>\n      <td>2.0</td>\n      <td>5.0</td>\n      <td>8.75</td>\n      <td>101.0</td>\n    </tr>\n    <tr>\n      <th>N1</th>\n      <td>50.0</td>\n      <td>13.5</td>\n      <td>8.096989</td>\n      <td>1.0</td>\n      <td>7.0</td>\n      <td>13.0</td>\n      <td>19.0</td>\n      <td>30.0</td>\n      <td>50.0</td>\n      <td>160.54</td>\n      <td>...</td>\n      <td>39.75</td>\n      <td>137.0</td>\n      <td>50.0</td>\n      <td>14.72</td>\n      <td>16.466466</td>\n      <td>2.0</td>\n      <td>2.0</td>\n      <td>5.5</td>\n      <td>23.75</td>\n      <td>69.0</td>\n    </tr>\n    <tr>\n      <th>N2</th>\n      <td>50.0</td>\n      <td>13.5</td>\n      <td>8.096989</td>\n      <td>1.0</td>\n      <td>7.0</td>\n      <td>13.0</td>\n      <td>19.0</td>\n      <td>30.0</td>\n      <td>50.0</td>\n      <td>168.76</td>\n      <td>...</td>\n      <td>74.00</td>\n      <td>118.0</td>\n      <td>50.0</td>\n      <td>12.72</td>\n      <td>24.462416</td>\n      <td>2.0</td>\n      <td>2.0</td>\n      <td>2.0</td>\n      <td>4.75</td>\n      <td>118.0</td>\n    </tr>\n    <tr>\n      <th>R1</th>\n      <td>50.0</td>\n      <td>13.5</td>\n      <td>8.096989</td>\n      <td>1.0</td>\n      <td>7.0</td>\n      <td>13.0</td>\n      <td>19.0</td>\n      <td>30.0</td>\n      <td>50.0</td>\n      <td>195.36</td>\n      <td>...</td>\n      <td>36.00</td>\n      <td>76.0</td>\n      <td>50.0</td>\n      <td>12.20</td>\n      <td>18.127665</td>\n      <td>2.0</td>\n      <td>2.0</td>\n      <td>2.0</td>\n      <td>16.75</td>\n      <td>70.0</td>\n    </tr>\n    <tr>\n      <th>R2</th>\n      <td>50.0</td>\n      <td>13.5</td>\n      <td>8.096989</td>\n      <td>1.0</td>\n      <td>7.0</td>\n      <td>13.0</td>\n      <td>19.0</td>\n      <td>30.0</td>\n      <td>50.0</td>\n      <td>152.06</td>\n      <td>...</td>\n      <td>38.25</td>\n      <td>81.0</td>\n      <td>50.0</td>\n      <td>12.78</td>\n      <td>16.486593</td>\n      <td>2.0</td>\n      <td>2.0</td>\n      <td>2.0</td>\n      <td>21.75</td>\n      <td>72.0</td>\n    </tr>\n    <tr>\n      <th>W1</th>\n      <td>50.0</td>\n      <td>13.5</td>\n      <td>8.096989</td>\n      <td>1.0</td>\n      <td>7.0</td>\n      <td>13.0</td>\n      <td>19.0</td>\n      <td>30.0</td>\n      <td>50.0</td>\n      <td>196.78</td>\n      <td>...</td>\n      <td>60.00</td>\n      <td>114.0</td>\n      <td>50.0</td>\n      <td>27.66</td>\n      <td>24.719331</td>\n      <td>2.0</td>\n      <td>3.0</td>\n      <td>26.5</td>\n      <td>49.00</td>\n      <td>73.0</td>\n    </tr>\n    <tr>\n      <th>W2</th>\n      <td>50.0</td>\n      <td>13.5</td>\n      <td>8.096989</td>\n      <td>1.0</td>\n      <td>7.0</td>\n      <td>13.0</td>\n      <td>19.0</td>\n      <td>30.0</td>\n      <td>50.0</td>\n      <td>197.32</td>\n      <td>...</td>\n      <td>80.75</td>\n      <td>102.0</td>\n      <td>50.0</td>\n      <td>24.82</td>\n      <td>34.930070</td>\n      <td>2.0</td>\n      <td>2.0</td>\n      <td>3.0</td>\n      <td>64.75</td>\n      <td>97.0</td>\n    </tr>\n  </tbody>\n</table>\n<p>12 rows × 32 columns</p>\n</div>"
     },
     "execution_count": 26,
     "metadata": {},
     "output_type": "execute_result"
    }
   ],
   "source": [
    "\n",
    "metric_frame.head(20)\n"
   ],
   "metadata": {
    "collapsed": false,
    "pycharm": {
     "name": "#%%\n"
    }
   }
  },
  {
   "cell_type": "code",
   "execution_count": 33,
   "outputs": [],
   "source": [],
   "metadata": {
    "collapsed": false,
    "pycharm": {
     "name": "#%%\n"
    }
   }
  },
  {
   "cell_type": "code",
   "execution_count": 46,
   "outputs": [],
   "source": [],
   "metadata": {
    "collapsed": false,
    "pycharm": {
     "name": "#%%\n"
    }
   }
  },
  {
   "cell_type": "code",
   "execution_count": 47,
   "outputs": [
    {
     "name": "stdout",
     "output_type": "stream",
     "text": [
      "{'C1': 2.14, 'C2': 2.16, 'HR_C': 2.6, 'HR_N': 13.18, 'HR_R': 14.54, 'HR_W': 14.56, 'N1': 14.72, 'N2': 12.72, 'R1': 12.2, 'R2': 12.78, 'W1': 27.66, 'W2': 24.82}\n"
     ]
    }
   ],
   "source": [
    "print()"
   ],
   "metadata": {
    "collapsed": false,
    "pycharm": {
     "name": "#%%\n"
    }
   }
  },
  {
   "cell_type": "code",
   "execution_count": 36,
   "outputs": [
    {
     "data": {
      "text/plain": "                max_k                                                \n                count   mean        std  min  25%   50%    75%    max\nattack_category                                                      \nC1               50.0   2.14   0.350510  2.0  2.0   2.0   2.00    3.0\nC2               50.0   2.16   0.421852  2.0  2.0   2.0   2.00    4.0\nHR_C             50.0   2.60   2.710524  2.0  2.0   2.0   2.00   21.0\nHR_N             50.0  13.18  19.958825  2.0  2.0   3.0  11.25   68.0\nHR_R             50.0  14.54  22.337129  2.0  2.0   2.0  16.50   85.0\nHR_W             50.0  14.56  23.892754  2.0  2.0   5.0   8.75  101.0\nN1               50.0  14.72  16.466466  2.0  2.0   5.5  23.75   69.0\nN2               50.0  12.72  24.462416  2.0  2.0   2.0   4.75  118.0\nR1               50.0  12.20  18.127665  2.0  2.0   2.0  16.75   70.0\nR2               50.0  12.78  16.486593  2.0  2.0   2.0  21.75   72.0\nW1               50.0  27.66  24.719331  2.0  3.0  26.5  49.00   73.0\nW2               50.0  24.82  34.930070  2.0  2.0   3.0  64.75   97.0",
      "text/html": "<div>\n<style scoped>\n    .dataframe tbody tr th:only-of-type {\n        vertical-align: middle;\n    }\n\n    .dataframe tbody tr th {\n        vertical-align: top;\n    }\n\n    .dataframe thead tr th {\n        text-align: left;\n    }\n\n    .dataframe thead tr:last-of-type th {\n        text-align: right;\n    }\n</style>\n<table border=\"1\" class=\"dataframe\">\n  <thead>\n    <tr>\n      <th></th>\n      <th colspan=\"8\" halign=\"left\">max_k</th>\n    </tr>\n    <tr>\n      <th></th>\n      <th>count</th>\n      <th>mean</th>\n      <th>std</th>\n      <th>min</th>\n      <th>25%</th>\n      <th>50%</th>\n      <th>75%</th>\n      <th>max</th>\n    </tr>\n    <tr>\n      <th>attack_category</th>\n      <th></th>\n      <th></th>\n      <th></th>\n      <th></th>\n      <th></th>\n      <th></th>\n      <th></th>\n      <th></th>\n    </tr>\n  </thead>\n  <tbody>\n    <tr>\n      <th>C1</th>\n      <td>50.0</td>\n      <td>2.14</td>\n      <td>0.350510</td>\n      <td>2.0</td>\n      <td>2.0</td>\n      <td>2.0</td>\n      <td>2.00</td>\n      <td>3.0</td>\n    </tr>\n    <tr>\n      <th>C2</th>\n      <td>50.0</td>\n      <td>2.16</td>\n      <td>0.421852</td>\n      <td>2.0</td>\n      <td>2.0</td>\n      <td>2.0</td>\n      <td>2.00</td>\n      <td>4.0</td>\n    </tr>\n    <tr>\n      <th>HR_C</th>\n      <td>50.0</td>\n      <td>2.60</td>\n      <td>2.710524</td>\n      <td>2.0</td>\n      <td>2.0</td>\n      <td>2.0</td>\n      <td>2.00</td>\n      <td>21.0</td>\n    </tr>\n    <tr>\n      <th>HR_N</th>\n      <td>50.0</td>\n      <td>13.18</td>\n      <td>19.958825</td>\n      <td>2.0</td>\n      <td>2.0</td>\n      <td>3.0</td>\n      <td>11.25</td>\n      <td>68.0</td>\n    </tr>\n    <tr>\n      <th>HR_R</th>\n      <td>50.0</td>\n      <td>14.54</td>\n      <td>22.337129</td>\n      <td>2.0</td>\n      <td>2.0</td>\n      <td>2.0</td>\n      <td>16.50</td>\n      <td>85.0</td>\n    </tr>\n    <tr>\n      <th>HR_W</th>\n      <td>50.0</td>\n      <td>14.56</td>\n      <td>23.892754</td>\n      <td>2.0</td>\n      <td>2.0</td>\n      <td>5.0</td>\n      <td>8.75</td>\n      <td>101.0</td>\n    </tr>\n    <tr>\n      <th>N1</th>\n      <td>50.0</td>\n      <td>14.72</td>\n      <td>16.466466</td>\n      <td>2.0</td>\n      <td>2.0</td>\n      <td>5.5</td>\n      <td>23.75</td>\n      <td>69.0</td>\n    </tr>\n    <tr>\n      <th>N2</th>\n      <td>50.0</td>\n      <td>12.72</td>\n      <td>24.462416</td>\n      <td>2.0</td>\n      <td>2.0</td>\n      <td>2.0</td>\n      <td>4.75</td>\n      <td>118.0</td>\n    </tr>\n    <tr>\n      <th>R1</th>\n      <td>50.0</td>\n      <td>12.20</td>\n      <td>18.127665</td>\n      <td>2.0</td>\n      <td>2.0</td>\n      <td>2.0</td>\n      <td>16.75</td>\n      <td>70.0</td>\n    </tr>\n    <tr>\n      <th>R2</th>\n      <td>50.0</td>\n      <td>12.78</td>\n      <td>16.486593</td>\n      <td>2.0</td>\n      <td>2.0</td>\n      <td>2.0</td>\n      <td>21.75</td>\n      <td>72.0</td>\n    </tr>\n    <tr>\n      <th>W1</th>\n      <td>50.0</td>\n      <td>27.66</td>\n      <td>24.719331</td>\n      <td>2.0</td>\n      <td>3.0</td>\n      <td>26.5</td>\n      <td>49.00</td>\n      <td>73.0</td>\n    </tr>\n    <tr>\n      <th>W2</th>\n      <td>50.0</td>\n      <td>24.82</td>\n      <td>34.930070</td>\n      <td>2.0</td>\n      <td>2.0</td>\n      <td>3.0</td>\n      <td>64.75</td>\n      <td>97.0</td>\n    </tr>\n  </tbody>\n</table>\n</div>"
     },
     "execution_count": 36,
     "metadata": {},
     "output_type": "execute_result"
    }
   ],
   "source": [
    "temp.head(20)"
   ],
   "metadata": {
    "collapsed": false,
    "pycharm": {
     "name": "#%%\n"
    }
   }
  },
  {
   "cell_type": "code",
   "execution_count": 45,
   "outputs": [],
   "source": [
    "temp2 =temp.T"
   ],
   "metadata": {
    "collapsed": false,
    "pycharm": {
     "name": "#%%\n"
    }
   }
  },
  {
   "cell_type": "code",
   "execution_count": 43,
   "outputs": [
    {
     "name": "stdout",
     "output_type": "stream",
     "text": [
      "{'C1': 50.0, 'C2': 50.0, 'HR_C': 50.0, 'HR_N': 50.0, 'HR_R': 50.0, 'HR_W': 50.0, 'N1': 50.0, 'N2': 50.0, 'R1': 50.0, 'R2': 50.0, 'W1': 50.0, 'W2': 50.0}\n",
      "{'C1': 2.14, 'C2': 2.16, 'HR_C': 2.6, 'HR_N': 13.18, 'HR_R': 14.54, 'HR_W': 14.56, 'N1': 14.72, 'N2': 12.72, 'R1': 12.2, 'R2': 12.78, 'W1': 27.66, 'W2': 24.82}\n",
      "{'C1': 0.3505098327538656, 'C2': 0.42185208743524005, 'HR_C': 2.710523708715754, 'HR_N': 19.958824962345627, 'HR_R': 22.337129335229616, 'HR_W': 23.89275357654257, 'N1': 16.466465613358515, 'N2': 24.462415986945512, 'R1': 18.127665180545428, 'R2': 16.486593192713915, 'W1': 24.719330616391073, 'W2': 34.930070081784365}\n",
      "{'C1': 2.0, 'C2': 2.0, 'HR_C': 2.0, 'HR_N': 2.0, 'HR_R': 2.0, 'HR_W': 2.0, 'N1': 2.0, 'N2': 2.0, 'R1': 2.0, 'R2': 2.0, 'W1': 2.0, 'W2': 2.0}\n",
      "{'C1': 2.0, 'C2': 2.0, 'HR_C': 2.0, 'HR_N': 2.0, 'HR_R': 2.0, 'HR_W': 2.0, 'N1': 2.0, 'N2': 2.0, 'R1': 2.0, 'R2': 2.0, 'W1': 3.0, 'W2': 2.0}\n",
      "{'C1': 2.0, 'C2': 2.0, 'HR_C': 2.0, 'HR_N': 3.0, 'HR_R': 2.0, 'HR_W': 5.0, 'N1': 5.5, 'N2': 2.0, 'R1': 2.0, 'R2': 2.0, 'W1': 26.5, 'W2': 3.0}\n",
      "{'C1': 2.0, 'C2': 2.0, 'HR_C': 2.0, 'HR_N': 11.25, 'HR_R': 16.5, 'HR_W': 8.75, 'N1': 23.75, 'N2': 4.75, 'R1': 16.75, 'R2': 21.75, 'W1': 49.0, 'W2': 64.75}\n",
      "{'C1': 3.0, 'C2': 4.0, 'HR_C': 21.0, 'HR_N': 68.0, 'HR_R': 85.0, 'HR_W': 101.0, 'N1': 69.0, 'N2': 118.0, 'R1': 70.0, 'R2': 72.0, 'W1': 73.0, 'W2': 97.0}\n"
     ]
    }
   ],
   "source": [
    "for row in temp.T.to_dict(orient=\"records\"):\n",
    "    print(row)"
   ],
   "metadata": {
    "collapsed": false,
    "pycharm": {
     "name": "#%%\n"
    }
   }
  },
  {
   "cell_type": "code",
   "execution_count": 44,
   "outputs": [],
   "source": [
    "temp.T.to_html(\"~/Downloads/casia_optimal_k_stats.html\")"
   ],
   "metadata": {
    "collapsed": false,
    "pycharm": {
     "name": "#%%\n"
    }
   }
  },
  {
   "cell_type": "code",
   "execution_count": null,
   "outputs": [],
   "source": [],
   "metadata": {
    "collapsed": false,
    "pycharm": {
     "name": "#%%\n"
    }
   }
  }
 ],
 "metadata": {
  "kernelspec": {
   "display_name": "Python 3",
   "language": "python",
   "name": "python3"
  },
  "language_info": {
   "codemirror_mode": {
    "name": "ipython",
    "version": 2
   },
   "file_extension": ".py",
   "mimetype": "text/x-python",
   "name": "python",
   "nbconvert_exporter": "python",
   "pygments_lexer": "ipython2",
   "version": "2.7.6"
  }
 },
 "nbformat": 4,
 "nbformat_minor": 0
}