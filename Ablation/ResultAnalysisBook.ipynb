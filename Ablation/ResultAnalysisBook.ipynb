{
 "cells": [
  {
   "cell_type": "code",
   "execution_count": 6,
   "outputs": [],
   "source": [
    "import pandas as pd\n",
    "import os\n",
    "import shutil"
   ],
   "metadata": {
    "collapsed": false,
    "pycharm": {
     "name": "#%%\n"
    }
   }
  },
  {
   "cell_type": "code",
   "execution_count": 2,
   "metadata": {
    "collapsed": true,
    "pycharm": {
     "name": "#%%\n"
    }
   },
   "outputs": [],
   "source": [
    "csv_file = \"/home/jarred/Documents/SavedAntispoofing/SIW_90/SpoofMetrics/GeneratedAugmentationSingle/SIW_antispoof_08_07_2022_19_14_38/A*ASUS-IP7P-IPP2017_aug_0.1_run_1/0/test_LOO_SGS8_results.csv\""
   ]
  },
  {
   "cell_type": "code",
   "execution_count": 3,
   "outputs": [],
   "source": [
    "df = pd.read_csv(csv_file)"
   ],
   "metadata": {
    "collapsed": false,
    "pycharm": {
     "name": "#%%\n"
    }
   }
  },
  {
   "cell_type": "code",
   "execution_count": 4,
   "outputs": [],
   "source": [
    "nondf = df.loc[~(df['ground_truth'] == df['predicted'])]"
   ],
   "metadata": {
    "collapsed": false,
    "pycharm": {
     "name": "#%%\n"
    }
   }
  },
  {
   "cell_type": "code",
   "execution_count": 5,
   "outputs": [
    {
     "data": {
      "text/plain": "                                            file_paths  ground_truth  \\\n719  /home/jarred/Documents/Datasets/SIW/test/real/...             0   \n743  /home/jarred/Documents/Datasets/SIW/test/real/...             0   \n756  /home/jarred/Documents/Datasets/SIW/test/real/...             0   \n766  /home/jarred/Documents/Datasets/SIW/test/real/...             0   \n808  /home/jarred/Documents/Datasets/SIW/test/real/...             0   \n\n     predicted  \n719          1  \n743          1  \n756          1  \n766          1  \n808          1  ",
      "text/html": "<div>\n<style scoped>\n    .dataframe tbody tr th:only-of-type {\n        vertical-align: middle;\n    }\n\n    .dataframe tbody tr th {\n        vertical-align: top;\n    }\n\n    .dataframe thead th {\n        text-align: right;\n    }\n</style>\n<table border=\"1\" class=\"dataframe\">\n  <thead>\n    <tr style=\"text-align: right;\">\n      <th></th>\n      <th>file_paths</th>\n      <th>ground_truth</th>\n      <th>predicted</th>\n    </tr>\n  </thead>\n  <tbody>\n    <tr>\n      <th>719</th>\n      <td>/home/jarred/Documents/Datasets/SIW/test/real/...</td>\n      <td>0</td>\n      <td>1</td>\n    </tr>\n    <tr>\n      <th>743</th>\n      <td>/home/jarred/Documents/Datasets/SIW/test/real/...</td>\n      <td>0</td>\n      <td>1</td>\n    </tr>\n    <tr>\n      <th>756</th>\n      <td>/home/jarred/Documents/Datasets/SIW/test/real/...</td>\n      <td>0</td>\n      <td>1</td>\n    </tr>\n    <tr>\n      <th>766</th>\n      <td>/home/jarred/Documents/Datasets/SIW/test/real/...</td>\n      <td>0</td>\n      <td>1</td>\n    </tr>\n    <tr>\n      <th>808</th>\n      <td>/home/jarred/Documents/Datasets/SIW/test/real/...</td>\n      <td>0</td>\n      <td>1</td>\n    </tr>\n  </tbody>\n</table>\n</div>"
     },
     "execution_count": 5,
     "metadata": {},
     "output_type": "execute_result"
    }
   ],
   "source": [
    "nondf.head()"
   ],
   "metadata": {
    "collapsed": false,
    "pycharm": {
     "name": "#%%\n"
    }
   }
  },
  {
   "cell_type": "code",
   "execution_count": 8,
   "outputs": [],
   "source": [
    "records = nondf.to_dict(orient='records')"
   ],
   "metadata": {
    "collapsed": false,
    "pycharm": {
     "name": "#%%\n"
    }
   }
  },
  {
   "cell_type": "code",
   "execution_count": 9,
   "outputs": [],
   "source": [
    "folder_path = \"/home/jarred/Documents/Orfao_Masters/analysis_images\"\n",
    "for rec in records:\n",
    "    new_name =f\"GT_{rec['ground_truth']}_P_{rec['predicted']}_{os.path.basename(rec['file_paths'])}\"\n",
    "    shutil.copy(rec['file_paths'], os.path.join(folder_path, new_name))"
   ],
   "metadata": {
    "collapsed": false,
    "pycharm": {
     "name": "#%%\n"
    }
   }
  },
  {
   "cell_type": "code",
   "execution_count": 14,
   "outputs": [
    {
     "data": {
      "text/plain": "0    9382\n1     900\nName: ground_truth, dtype: int64"
     },
     "execution_count": 14,
     "metadata": {},
     "output_type": "execute_result"
    }
   ],
   "source": [
    "df['ground_truth'].value_counts()"
   ],
   "metadata": {
    "collapsed": false,
    "pycharm": {
     "name": "#%%\n"
    }
   }
  },
  {
   "cell_type": "code",
   "execution_count": null,
   "outputs": [],
   "source": [],
   "metadata": {
    "collapsed": false,
    "pycharm": {
     "name": "#%%\n"
    }
   }
  }
 ],
 "metadata": {
  "kernelspec": {
   "display_name": "Python 3",
   "language": "python",
   "name": "python3"
  },
  "language_info": {
   "codemirror_mode": {
    "name": "ipython",
    "version": 2
   },
   "file_extension": ".py",
   "mimetype": "text/x-python",
   "name": "python",
   "nbconvert_exporter": "python",
   "pygments_lexer": "ipython2",
   "version": "2.7.6"
  }
 },
 "nbformat": 4,
 "nbformat_minor": 0
}