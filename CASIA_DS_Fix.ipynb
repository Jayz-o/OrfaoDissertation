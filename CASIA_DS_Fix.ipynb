{
 "cells": [
  {
   "cell_type": "code",
   "execution_count": 1,
   "metadata": {
    "collapsed": true
   },
   "outputs": [],
   "source": [
    "import pandas as pd\n",
    "import os"
   ]
  },
  {
   "cell_type": "code",
   "execution_count": 2,
   "outputs": [],
   "source": [
    "root = \"/home/jarred/Documents/Datasets/CASIA\"\n",
    "csv_name = \"casia.csv\""
   ],
   "metadata": {
    "collapsed": false
   }
  },
  {
   "cell_type": "code",
   "execution_count": 3,
   "outputs": [
    {
     "data": {
      "text/plain": "  usage_type ground_truth  subject_number video_name  video_frames  \\\n0       test        spoof               1   HR_4.avi         115.0   \n1       test        spoof               1   HR_2.avi         249.0   \n2       test        spoof               1   HR_3.avi          93.0   \n3       test        spoof               1      3.avi         213.0   \n4       test        spoof               1      4.avi         198.0   \n\n   frames_present attack_category     directory_path  \n0             115            HR_R  test/spoof/1/HR_4  \n1             247            HR_W  test/spoof/1/HR_2  \n2              91            HR_C  test/spoof/1/HR_3  \n3             213              W1     test/spoof/1/3  \n4             198              W2     test/spoof/1/4  ",
      "text/html": "<div>\n<style scoped>\n    .dataframe tbody tr th:only-of-type {\n        vertical-align: middle;\n    }\n\n    .dataframe tbody tr th {\n        vertical-align: top;\n    }\n\n    .dataframe thead th {\n        text-align: right;\n    }\n</style>\n<table border=\"1\" class=\"dataframe\">\n  <thead>\n    <tr style=\"text-align: right;\">\n      <th></th>\n      <th>usage_type</th>\n      <th>ground_truth</th>\n      <th>subject_number</th>\n      <th>video_name</th>\n      <th>video_frames</th>\n      <th>frames_present</th>\n      <th>attack_category</th>\n      <th>directory_path</th>\n    </tr>\n  </thead>\n  <tbody>\n    <tr>\n      <th>0</th>\n      <td>test</td>\n      <td>spoof</td>\n      <td>1</td>\n      <td>HR_4.avi</td>\n      <td>115.0</td>\n      <td>115</td>\n      <td>HR_R</td>\n      <td>test/spoof/1/HR_4</td>\n    </tr>\n    <tr>\n      <th>1</th>\n      <td>test</td>\n      <td>spoof</td>\n      <td>1</td>\n      <td>HR_2.avi</td>\n      <td>249.0</td>\n      <td>247</td>\n      <td>HR_W</td>\n      <td>test/spoof/1/HR_2</td>\n    </tr>\n    <tr>\n      <th>2</th>\n      <td>test</td>\n      <td>spoof</td>\n      <td>1</td>\n      <td>HR_3.avi</td>\n      <td>93.0</td>\n      <td>91</td>\n      <td>HR_C</td>\n      <td>test/spoof/1/HR_3</td>\n    </tr>\n    <tr>\n      <th>3</th>\n      <td>test</td>\n      <td>spoof</td>\n      <td>1</td>\n      <td>3.avi</td>\n      <td>213.0</td>\n      <td>213</td>\n      <td>W1</td>\n      <td>test/spoof/1/3</td>\n    </tr>\n    <tr>\n      <th>4</th>\n      <td>test</td>\n      <td>spoof</td>\n      <td>1</td>\n      <td>4.avi</td>\n      <td>198.0</td>\n      <td>198</td>\n      <td>W2</td>\n      <td>test/spoof/1/4</td>\n    </tr>\n  </tbody>\n</table>\n</div>"
     },
     "execution_count": 3,
     "metadata": {},
     "output_type": "execute_result"
    }
   ],
   "source": [
    "df = pd.read_csv(os.path.join(root, csv_name))\n",
    "df.head()"
   ],
   "metadata": {
    "collapsed": false
   }
  },
  {
   "cell_type": "code",
   "execution_count": 4,
   "outputs": [],
   "source": [
    "# get the old dir\n",
    "old_paths = df['directory_path'].tolist()"
   ],
   "metadata": {
    "collapsed": false
   }
  },
  {
   "cell_type": "code",
   "execution_count": 6,
   "outputs": [],
   "source": [
    "def fix_directory(row):\n",
    "    prev_path = os.path.dirname(row['directory_path'])\n",
    "    folder_name = os.path.basename(row['directory_path'])\n",
    "    return f\"{prev_path}/{row['subject_number']}-{folder_name}\""
   ],
   "metadata": {
    "collapsed": false
   }
  },
  {
   "cell_type": "code",
   "execution_count": 7,
   "outputs": [
    {
     "data": {
      "text/plain": "  usage_type ground_truth  subject_number video_name  video_frames  \\\n0       test        spoof               1   HR_4.avi         115.0   \n1       test        spoof               1   HR_2.avi         249.0   \n2       test        spoof               1   HR_3.avi          93.0   \n3       test        spoof               1      3.avi         213.0   \n4       test        spoof               1      4.avi         198.0   \n\n   frames_present attack_category       directory_path  \n0             115            HR_R  test/spoof/1/1-HR_4  \n1             247            HR_W  test/spoof/1/1-HR_2  \n2              91            HR_C  test/spoof/1/1-HR_3  \n3             213              W1     test/spoof/1/1-3  \n4             198              W2     test/spoof/1/1-4  ",
      "text/html": "<div>\n<style scoped>\n    .dataframe tbody tr th:only-of-type {\n        vertical-align: middle;\n    }\n\n    .dataframe tbody tr th {\n        vertical-align: top;\n    }\n\n    .dataframe thead th {\n        text-align: right;\n    }\n</style>\n<table border=\"1\" class=\"dataframe\">\n  <thead>\n    <tr style=\"text-align: right;\">\n      <th></th>\n      <th>usage_type</th>\n      <th>ground_truth</th>\n      <th>subject_number</th>\n      <th>video_name</th>\n      <th>video_frames</th>\n      <th>frames_present</th>\n      <th>attack_category</th>\n      <th>directory_path</th>\n    </tr>\n  </thead>\n  <tbody>\n    <tr>\n      <th>0</th>\n      <td>test</td>\n      <td>spoof</td>\n      <td>1</td>\n      <td>HR_4.avi</td>\n      <td>115.0</td>\n      <td>115</td>\n      <td>HR_R</td>\n      <td>test/spoof/1/1-HR_4</td>\n    </tr>\n    <tr>\n      <th>1</th>\n      <td>test</td>\n      <td>spoof</td>\n      <td>1</td>\n      <td>HR_2.avi</td>\n      <td>249.0</td>\n      <td>247</td>\n      <td>HR_W</td>\n      <td>test/spoof/1/1-HR_2</td>\n    </tr>\n    <tr>\n      <th>2</th>\n      <td>test</td>\n      <td>spoof</td>\n      <td>1</td>\n      <td>HR_3.avi</td>\n      <td>93.0</td>\n      <td>91</td>\n      <td>HR_C</td>\n      <td>test/spoof/1/1-HR_3</td>\n    </tr>\n    <tr>\n      <th>3</th>\n      <td>test</td>\n      <td>spoof</td>\n      <td>1</td>\n      <td>3.avi</td>\n      <td>213.0</td>\n      <td>213</td>\n      <td>W1</td>\n      <td>test/spoof/1/1-3</td>\n    </tr>\n    <tr>\n      <th>4</th>\n      <td>test</td>\n      <td>spoof</td>\n      <td>1</td>\n      <td>4.avi</td>\n      <td>198.0</td>\n      <td>198</td>\n      <td>W2</td>\n      <td>test/spoof/1/1-4</td>\n    </tr>\n  </tbody>\n</table>\n</div>"
     },
     "execution_count": 7,
     "metadata": {},
     "output_type": "execute_result"
    }
   ],
   "source": [
    "df['directory_path'] = df.apply(lambda row: fix_directory(row), axis=1)\n",
    "df.head()"
   ],
   "metadata": {
    "collapsed": false
   }
  },
  {
   "cell_type": "code",
   "execution_count": 8,
   "outputs": [],
   "source": [
    "new_paths = df['directory_path'].tolist()"
   ],
   "metadata": {
    "collapsed": false
   }
  },
  {
   "cell_type": "code",
   "execution_count": 9,
   "outputs": [],
   "source": [
    "for i in range(len(old_paths)):\n",
    "    source = os.path.join(root, old_paths[i])\n",
    "    destination = os.path.join(root, new_paths[i])\n",
    "    os.rename(source, destination)"
   ],
   "metadata": {
    "collapsed": false
   }
  },
  {
   "cell_type": "code",
   "execution_count": 10,
   "outputs": [],
   "source": [
    "df.to_csv(os.path.join(root, csv_name), index=False)"
   ],
   "metadata": {
    "collapsed": false
   }
  },
  {
   "cell_type": "code",
   "execution_count": null,
   "outputs": [],
   "source": [],
   "metadata": {
    "collapsed": false
   }
  }
 ],
 "metadata": {
  "kernelspec": {
   "display_name": "Python 3",
   "language": "python",
   "name": "python3"
  },
  "language_info": {
   "codemirror_mode": {
    "name": "ipython",
    "version": 2
   },
   "file_extension": ".py",
   "mimetype": "text/x-python",
   "name": "python",
   "nbconvert_exporter": "python",
   "pygments_lexer": "ipython2",
   "version": "2.7.6"
  }
 },
 "nbformat": 4,
 "nbformat_minor": 0
}
