{
 "cells": [
  {
   "cell_type": "code",
   "execution_count": 6,
   "outputs": [],
   "source": [
    "import pickle\n",
    "\n",
    "import pandas as pd\n",
    "import os\n",
    "import pickle\n",
    "import os\n"
   ],
   "metadata": {
    "collapsed": false,
    "pycharm": {
     "name": "#%%\n"
    }
   }
  },
  {
   "cell_type": "code",
   "execution_count": 12,
   "outputs": [
    {
     "data": {
      "text/plain": "  usage_type ground_truth  subject_number video_name  video_frames  \\\n0       test        spoof               1   HR_4.avi         115.0   \n1       test        spoof               1   HR_2.avi         249.0   \n2       test        spoof               1   HR_3.avi          93.0   \n3       test        spoof               1      3.avi         213.0   \n4       test        spoof               1      4.avi         198.0   \n\n   frames_present attack_category     directory_path  \n0             115            HR_R  test/spoof/1/HR_4  \n1             247            HR_W  test/spoof/1/HR_2  \n2              91            HR_C  test/spoof/1/HR_3  \n3             213              W1     test/spoof/1/3  \n4             198              W2     test/spoof/1/4  ",
      "text/html": "<div>\n<style scoped>\n    .dataframe tbody tr th:only-of-type {\n        vertical-align: middle;\n    }\n\n    .dataframe tbody tr th {\n        vertical-align: top;\n    }\n\n    .dataframe thead th {\n        text-align: right;\n    }\n</style>\n<table border=\"1\" class=\"dataframe\">\n  <thead>\n    <tr style=\"text-align: right;\">\n      <th></th>\n      <th>usage_type</th>\n      <th>ground_truth</th>\n      <th>subject_number</th>\n      <th>video_name</th>\n      <th>video_frames</th>\n      <th>frames_present</th>\n      <th>attack_category</th>\n      <th>directory_path</th>\n    </tr>\n  </thead>\n  <tbody>\n    <tr>\n      <th>0</th>\n      <td>test</td>\n      <td>spoof</td>\n      <td>1</td>\n      <td>HR_4.avi</td>\n      <td>115.0</td>\n      <td>115</td>\n      <td>HR_R</td>\n      <td>test/spoof/1/HR_4</td>\n    </tr>\n    <tr>\n      <th>1</th>\n      <td>test</td>\n      <td>spoof</td>\n      <td>1</td>\n      <td>HR_2.avi</td>\n      <td>249.0</td>\n      <td>247</td>\n      <td>HR_W</td>\n      <td>test/spoof/1/HR_2</td>\n    </tr>\n    <tr>\n      <th>2</th>\n      <td>test</td>\n      <td>spoof</td>\n      <td>1</td>\n      <td>HR_3.avi</td>\n      <td>93.0</td>\n      <td>91</td>\n      <td>HR_C</td>\n      <td>test/spoof/1/HR_3</td>\n    </tr>\n    <tr>\n      <th>3</th>\n      <td>test</td>\n      <td>spoof</td>\n      <td>1</td>\n      <td>3.avi</td>\n      <td>213.0</td>\n      <td>213</td>\n      <td>W1</td>\n      <td>test/spoof/1/3</td>\n    </tr>\n    <tr>\n      <th>4</th>\n      <td>test</td>\n      <td>spoof</td>\n      <td>1</td>\n      <td>4.avi</td>\n      <td>198.0</td>\n      <td>198</td>\n      <td>W2</td>\n      <td>test/spoof/1/4</td>\n    </tr>\n  </tbody>\n</table>\n</div>"
     },
     "execution_count": 12,
     "metadata": {},
     "output_type": "execute_result"
    }
   ],
   "source": [
    "df = pd.read_csv(\"../casia.csv\")\n",
    "df.head()"
   ],
   "metadata": {
    "collapsed": false,
    "pycharm": {
     "name": "#%%\n"
    }
   }
  },
  {
   "cell_type": "code",
   "execution_count": 13,
   "outputs": [],
   "source": [
    "directory_paths = df['directory_path'].tolist()"
   ],
   "metadata": {
    "collapsed": false,
    "pycharm": {
     "name": "#%%\n"
    }
   }
  },
  {
   "cell_type": "code",
   "execution_count": 14,
   "outputs": [],
   "source": [
    "def fix_directory(row):\n",
    "    prev_path = os.path.dirname(row['directory_path'])\n",
    "    folder_name = os.path.basename(row['directory_path'])\n",
    "    return f\"{prev_path}/{row['subject_number']}-{folder_name}\""
   ],
   "metadata": {
    "collapsed": false,
    "pycharm": {
     "name": "#%%\n"
    }
   }
  },
  {
   "cell_type": "code",
   "execution_count": 15,
   "outputs": [
    {
     "data": {
      "text/plain": "  usage_type ground_truth  subject_number video_name  video_frames  \\\n0       test        spoof               1   HR_4.avi         115.0   \n1       test        spoof               1   HR_2.avi         249.0   \n2       test        spoof               1   HR_3.avi          93.0   \n3       test        spoof               1      3.avi         213.0   \n4       test        spoof               1      4.avi         198.0   \n\n   frames_present attack_category       directory_path  \n0             115            HR_R  test/spoof/1/1-HR_4  \n1             247            HR_W  test/spoof/1/1-HR_2  \n2              91            HR_C  test/spoof/1/1-HR_3  \n3             213              W1     test/spoof/1/1-3  \n4             198              W2     test/spoof/1/1-4  ",
      "text/html": "<div>\n<style scoped>\n    .dataframe tbody tr th:only-of-type {\n        vertical-align: middle;\n    }\n\n    .dataframe tbody tr th {\n        vertical-align: top;\n    }\n\n    .dataframe thead th {\n        text-align: right;\n    }\n</style>\n<table border=\"1\" class=\"dataframe\">\n  <thead>\n    <tr style=\"text-align: right;\">\n      <th></th>\n      <th>usage_type</th>\n      <th>ground_truth</th>\n      <th>subject_number</th>\n      <th>video_name</th>\n      <th>video_frames</th>\n      <th>frames_present</th>\n      <th>attack_category</th>\n      <th>directory_path</th>\n    </tr>\n  </thead>\n  <tbody>\n    <tr>\n      <th>0</th>\n      <td>test</td>\n      <td>spoof</td>\n      <td>1</td>\n      <td>HR_4.avi</td>\n      <td>115.0</td>\n      <td>115</td>\n      <td>HR_R</td>\n      <td>test/spoof/1/1-HR_4</td>\n    </tr>\n    <tr>\n      <th>1</th>\n      <td>test</td>\n      <td>spoof</td>\n      <td>1</td>\n      <td>HR_2.avi</td>\n      <td>249.0</td>\n      <td>247</td>\n      <td>HR_W</td>\n      <td>test/spoof/1/1-HR_2</td>\n    </tr>\n    <tr>\n      <th>2</th>\n      <td>test</td>\n      <td>spoof</td>\n      <td>1</td>\n      <td>HR_3.avi</td>\n      <td>93.0</td>\n      <td>91</td>\n      <td>HR_C</td>\n      <td>test/spoof/1/1-HR_3</td>\n    </tr>\n    <tr>\n      <th>3</th>\n      <td>test</td>\n      <td>spoof</td>\n      <td>1</td>\n      <td>3.avi</td>\n      <td>213.0</td>\n      <td>213</td>\n      <td>W1</td>\n      <td>test/spoof/1/1-3</td>\n    </tr>\n    <tr>\n      <th>4</th>\n      <td>test</td>\n      <td>spoof</td>\n      <td>1</td>\n      <td>4.avi</td>\n      <td>198.0</td>\n      <td>198</td>\n      <td>W2</td>\n      <td>test/spoof/1/1-4</td>\n    </tr>\n  </tbody>\n</table>\n</div>"
     },
     "execution_count": 15,
     "metadata": {},
     "output_type": "execute_result"
    }
   ],
   "source": [
    "df['directory_path'] = df.apply(lambda row: fix_directory(row), axis=1)\n",
    "df.head()"
   ],
   "metadata": {
    "collapsed": false,
    "pycharm": {
     "name": "#%%\n"
    }
   }
  },
  {
   "cell_type": "code",
   "execution_count": 2,
   "outputs": [
    {
     "data": {
      "text/plain": "                                          file_paths  ground_truth  predicted\n0  /home/jarred/Documents/Datasets/SIW/test/real/...             0          0\n1  /home/jarred/Documents/Datasets/SIW/test/real/...             0          0\n2  /home/jarred/Documents/Datasets/SIW/test/real/...             0          0\n3  /home/jarred/Documents/Datasets/SIW/test/real/...             0          0\n4  /home/jarred/Documents/Datasets/SIW/test/real/...             0          0\n5  /home/jarred/Documents/Datasets/SIW/test/real/...             0          0\n6  /home/jarred/Documents/Datasets/SIW/test/real/...             0          0\n7  /home/jarred/Documents/Datasets/SIW/test/real/...             0          0\n8  /home/jarred/Documents/Datasets/SIW/test/real/...             0          0\n9  /home/jarred/Documents/Datasets/SIW/test/real/...             0          0",
      "text/html": "<div>\n<style scoped>\n    .dataframe tbody tr th:only-of-type {\n        vertical-align: middle;\n    }\n\n    .dataframe tbody tr th {\n        vertical-align: top;\n    }\n\n    .dataframe thead th {\n        text-align: right;\n    }\n</style>\n<table border=\"1\" class=\"dataframe\">\n  <thead>\n    <tr style=\"text-align: right;\">\n      <th></th>\n      <th>file_paths</th>\n      <th>ground_truth</th>\n      <th>predicted</th>\n    </tr>\n  </thead>\n  <tbody>\n    <tr>\n      <th>0</th>\n      <td>/home/jarred/Documents/Datasets/SIW/test/real/...</td>\n      <td>0</td>\n      <td>0</td>\n    </tr>\n    <tr>\n      <th>1</th>\n      <td>/home/jarred/Documents/Datasets/SIW/test/real/...</td>\n      <td>0</td>\n      <td>0</td>\n    </tr>\n    <tr>\n      <th>2</th>\n      <td>/home/jarred/Documents/Datasets/SIW/test/real/...</td>\n      <td>0</td>\n      <td>0</td>\n    </tr>\n    <tr>\n      <th>3</th>\n      <td>/home/jarred/Documents/Datasets/SIW/test/real/...</td>\n      <td>0</td>\n      <td>0</td>\n    </tr>\n    <tr>\n      <th>4</th>\n      <td>/home/jarred/Documents/Datasets/SIW/test/real/...</td>\n      <td>0</td>\n      <td>0</td>\n    </tr>\n    <tr>\n      <th>5</th>\n      <td>/home/jarred/Documents/Datasets/SIW/test/real/...</td>\n      <td>0</td>\n      <td>0</td>\n    </tr>\n    <tr>\n      <th>6</th>\n      <td>/home/jarred/Documents/Datasets/SIW/test/real/...</td>\n      <td>0</td>\n      <td>0</td>\n    </tr>\n    <tr>\n      <th>7</th>\n      <td>/home/jarred/Documents/Datasets/SIW/test/real/...</td>\n      <td>0</td>\n      <td>0</td>\n    </tr>\n    <tr>\n      <th>8</th>\n      <td>/home/jarred/Documents/Datasets/SIW/test/real/...</td>\n      <td>0</td>\n      <td>0</td>\n    </tr>\n    <tr>\n      <th>9</th>\n      <td>/home/jarred/Documents/Datasets/SIW/test/real/...</td>\n      <td>0</td>\n      <td>0</td>\n    </tr>\n  </tbody>\n</table>\n</div>"
     },
     "execution_count": 2,
     "metadata": {},
     "output_type": "execute_result"
    }
   ],
   "source": [
    "# /home/jarred/Documents/Datasets/CASIA/test/real/1/1/frame_355.png\n",
    "# /home/jarred/Documents/Datasets/SIW/test/real/75/075-1-1-1-1/frame_355.png\n",
    "csv_path = \"../test_LOO_SGS8_results.csv\"\n",
    "df = pd.read_csv(csv_path)\n",
    "df.head(10)"
   ],
   "metadata": {
    "collapsed": false,
    "pycharm": {
     "name": "#%%\n"
    }
   }
  },
  {
   "cell_type": "code",
   "execution_count": 4,
   "outputs": [],
   "source": [
    "def categorise_video(row):\n",
    "    return os.path.basename(os.path.dirname(row['file_paths']))\n"
   ],
   "metadata": {
    "collapsed": false,
    "pycharm": {
     "name": "#%%\n"
    }
   }
  },
  {
   "cell_type": "code",
   "execution_count": 5,
   "outputs": [
    {
     "data": {
      "text/plain": "                                          file_paths  ground_truth  predicted  \\\n0  /home/jarred/Documents/Datasets/SIW/test/real/...             0          0   \n1  /home/jarred/Documents/Datasets/SIW/test/real/...             0          0   \n2  /home/jarred/Documents/Datasets/SIW/test/real/...             0          0   \n3  /home/jarred/Documents/Datasets/SIW/test/real/...             0          0   \n4  /home/jarred/Documents/Datasets/SIW/test/real/...             0          0   \n5  /home/jarred/Documents/Datasets/SIW/test/real/...             0          0   \n6  /home/jarred/Documents/Datasets/SIW/test/real/...             0          0   \n7  /home/jarred/Documents/Datasets/SIW/test/real/...             0          0   \n8  /home/jarred/Documents/Datasets/SIW/test/real/...             0          0   \n9  /home/jarred/Documents/Datasets/SIW/test/real/...             0          0   \n\n                      video_name  \n0  /SIW/test/real/75/075-1-1-1-1  \n1  /SIW/test/real/75/075-1-1-1-1  \n2  /SIW/test/real/75/075-1-1-1-1  \n3  /SIW/test/real/75/075-1-1-1-1  \n4  /SIW/test/real/75/075-1-1-1-1  \n5  /SIW/test/real/75/075-1-1-1-1  \n6  /SIW/test/real/75/075-1-1-1-1  \n7  /SIW/test/real/75/075-1-1-1-1  \n8  /SIW/test/real/75/075-1-1-1-1  \n9  /SIW/test/real/75/075-1-1-1-1  ",
      "text/html": "<div>\n<style scoped>\n    .dataframe tbody tr th:only-of-type {\n        vertical-align: middle;\n    }\n\n    .dataframe tbody tr th {\n        vertical-align: top;\n    }\n\n    .dataframe thead th {\n        text-align: right;\n    }\n</style>\n<table border=\"1\" class=\"dataframe\">\n  <thead>\n    <tr style=\"text-align: right;\">\n      <th></th>\n      <th>file_paths</th>\n      <th>ground_truth</th>\n      <th>predicted</th>\n      <th>video_name</th>\n    </tr>\n  </thead>\n  <tbody>\n    <tr>\n      <th>0</th>\n      <td>/home/jarred/Documents/Datasets/SIW/test/real/...</td>\n      <td>0</td>\n      <td>0</td>\n      <td>/SIW/test/real/75/075-1-1-1-1</td>\n    </tr>\n    <tr>\n      <th>1</th>\n      <td>/home/jarred/Documents/Datasets/SIW/test/real/...</td>\n      <td>0</td>\n      <td>0</td>\n      <td>/SIW/test/real/75/075-1-1-1-1</td>\n    </tr>\n    <tr>\n      <th>2</th>\n      <td>/home/jarred/Documents/Datasets/SIW/test/real/...</td>\n      <td>0</td>\n      <td>0</td>\n      <td>/SIW/test/real/75/075-1-1-1-1</td>\n    </tr>\n    <tr>\n      <th>3</th>\n      <td>/home/jarred/Documents/Datasets/SIW/test/real/...</td>\n      <td>0</td>\n      <td>0</td>\n      <td>/SIW/test/real/75/075-1-1-1-1</td>\n    </tr>\n    <tr>\n      <th>4</th>\n      <td>/home/jarred/Documents/Datasets/SIW/test/real/...</td>\n      <td>0</td>\n      <td>0</td>\n      <td>/SIW/test/real/75/075-1-1-1-1</td>\n    </tr>\n    <tr>\n      <th>5</th>\n      <td>/home/jarred/Documents/Datasets/SIW/test/real/...</td>\n      <td>0</td>\n      <td>0</td>\n      <td>/SIW/test/real/75/075-1-1-1-1</td>\n    </tr>\n    <tr>\n      <th>6</th>\n      <td>/home/jarred/Documents/Datasets/SIW/test/real/...</td>\n      <td>0</td>\n      <td>0</td>\n      <td>/SIW/test/real/75/075-1-1-1-1</td>\n    </tr>\n    <tr>\n      <th>7</th>\n      <td>/home/jarred/Documents/Datasets/SIW/test/real/...</td>\n      <td>0</td>\n      <td>0</td>\n      <td>/SIW/test/real/75/075-1-1-1-1</td>\n    </tr>\n    <tr>\n      <th>8</th>\n      <td>/home/jarred/Documents/Datasets/SIW/test/real/...</td>\n      <td>0</td>\n      <td>0</td>\n      <td>/SIW/test/real/75/075-1-1-1-1</td>\n    </tr>\n    <tr>\n      <th>9</th>\n      <td>/home/jarred/Documents/Datasets/SIW/test/real/...</td>\n      <td>0</td>\n      <td>0</td>\n      <td>/SIW/test/real/75/075-1-1-1-1</td>\n    </tr>\n  </tbody>\n</table>\n</div>"
     },
     "execution_count": 5,
     "metadata": {},
     "output_type": "execute_result"
    }
   ],
   "source": [
    "df['video_name'] = df.apply(lambda row: categorise_video(row), axis=1)\n",
    "df.head(10)"
   ],
   "metadata": {
    "collapsed": false,
    "pycharm": {
     "name": "#%%\n"
    }
   }
  },
  {
   "cell_type": "code",
   "execution_count": 8,
   "outputs": [],
   "source": [
    "video_names = df['video_name'].unique()"
   ],
   "metadata": {
    "collapsed": false,
    "pycharm": {
     "name": "#%%\n"
    }
   }
  },
  {
   "cell_type": "code",
   "execution_count": 14,
   "outputs": [],
   "source": [
    "temp_df = df.query(f\"video_name == '{video_names[0]}'\")\n",
    "spoof_pred_count = temp_df[(temp_df.predicted == 1)].count()[\"predicted\"]\n",
    "real_pred_count = temp_df[(temp_df.predicted == 0)].count()[\"predicted\"]\n",
    "ground_truth = temp_df['ground_truth'].tolist()[0]\n",
    "if spoof_pred_count > real_pred_count:\n",
    "    predicted = 1\n",
    "else:\n",
    "    predicted = 0"
   ],
   "metadata": {
    "collapsed": false,
    "pycharm": {
     "name": "#%%\n"
    }
   }
  },
  {
   "cell_type": "code",
   "execution_count": 3,
   "outputs": [
    {
     "name": "stdout",
     "output_type": "stream",
     "text": [
      "Warning: plot_cm resulted in no output. Check your args.\n",
      "Warning: the classification report resulted in no output. Check your args.\n"
     ]
    }
   ],
   "source": [
    "from Antispoofing.AntispoofHelpers.spoof_metric import determine_spoof_metrics\n",
    "\n",
    "\n",
    "def video_based_results(single_frame):\n",
    "    temp_single = single_frame.copy()\n",
    "    def categorise_video(row):\n",
    "        return os.path.basename(os.path.dirname(row['file_paths']))\n",
    "    temp_single['video_name'] = temp_single.apply(lambda row: categorise_video(row), axis=1)\n",
    "    video_names = temp_single['video_name'].unique()\n",
    "    video_list = []\n",
    "    for name in video_names:\n",
    "        temp_df = temp_single.query(f\"video_name == '{name}'\")\n",
    "        real = 0\n",
    "        spoof = 1\n",
    "        spoof_pred_count = temp_df[(temp_df.predicted == 1)].count()[\"predicted\"]\n",
    "        real_pred_count = temp_df[(temp_df.predicted == 0)].count()[\"predicted\"]\n",
    "        if spoof_pred_count > real_pred_count:\n",
    "            predicted = 1\n",
    "        else:\n",
    "            predicted = 0\n",
    "        ground_truth = temp_df['ground_truth'].tolist()[0]\n",
    "        video_list.append({\"video_name\": name, f'spoof({spoof})_pred_count': spoof_pred_count, f'real({real}_pred_count': real_pred_count, \"predicted\": predicted, \"ground_truth\": ground_truth})\n",
    "    multi_frame = pd.DataFrame.from_dict(video_list)\n",
    "    predicted = multi_frame['predicted'].tolist()\n",
    "    ground_truth = multi_frame['ground_truth'].tolist()\n",
    "    metric_dic = determine_spoof_metrics(ground_truth, predicted, \"ASUS\", 1,1, must_show=False)\n",
    "    metric_dic = dict((\"{}_{}\".format(\"Multi\",k),v) for k,v in metric_dic.items())\n",
    "    return metric_dic\n",
    "multi_metric_dic = video_based_results(df)\n"
   ],
   "metadata": {
    "collapsed": false,
    "pycharm": {
     "name": "#%%\n"
    }
   }
  },
  {
   "cell_type": "code",
   "execution_count": 18,
   "outputs": [],
   "source": [
    "multi_frame_df = pd.DataFrame.from_dict(video_list)\n"
   ],
   "metadata": {
    "collapsed": false,
    "pycharm": {
     "name": "#%%\n"
    }
   }
  },
  {
   "cell_type": "code",
   "execution_count": 20,
   "outputs": [
    {
     "name": "stdout",
     "output_type": "stream",
     "text": [
      "[0, 0, 0, 0, 0, 0, 0, 0, 1, 1]\n"
     ]
    }
   ],
   "source": [
    "print(multi_frame_df['predicted'].tolist())"
   ],
   "metadata": {
    "collapsed": false,
    "pycharm": {
     "name": "#%%\n"
    }
   }
  },
  {
   "cell_type": "code",
   "execution_count": 19,
   "outputs": [],
   "source": [
    "d = {'a': 1, 'b': 2}\n",
    "multi_d = dict((\"{}_{}\".format(\"Multi\",k),v) for k,v in d.items())"
   ],
   "metadata": {
    "collapsed": false,
    "pycharm": {
     "name": "#%%\n"
    }
   }
  },
  {
   "cell_type": "code",
   "execution_count": 4,
   "outputs": [
    {
     "name": "stdout",
     "output_type": "stream",
     "text": [
      "075-1-1-1-1\n"
     ]
    }
   ],
   "source": [
    "print(os.path.basename(os.path.dirname(\"/home/jarred/Documents/Datasets/SIW/test/real/75/075-1-1-1-1/frame_355.png\")))"
   ],
   "metadata": {
    "collapsed": false,
    "pycharm": {
     "name": "#%%\n"
    }
   }
  },
  {
   "cell_type": "code",
   "execution_count": 2,
   "outputs": [],
   "source": [
    "folder = \"/home/jarred/Documents/GANModels/SIW_KF_90/ASUS/00005-stylegan3-r-ASUS-gpus2-batch32-gamma32\"\n",
    "name = \"metric-fid50k_full.jsonl\"\n"
   ],
   "metadata": {
    "collapsed": false,
    "pycharm": {
     "name": "#%%\n"
    }
   }
  },
  {
   "cell_type": "code",
   "execution_count": 5,
   "outputs": [],
   "source": [
    "import json\n",
    "\n",
    "with open(os.path.join(folder,name), 'r') as f:\n",
    "    lines = f.readlines()\n",
    "    results = []\n",
    "    for line in lines:\n",
    "        result = json.loads(line)\n",
    "        kimg = int(os.path.splitext(result['snapshot_pkl'])[0].split(\"-\")[-1])\n",
    "        results.append({'fid': result[\"results\"][\"fid50k_full\"], \"model\":result[\"snapshot_pkl\"], 'fake_image': f\"fakes{kimg:06d}.png\"})"
   ],
   "metadata": {
    "collapsed": false,
    "pycharm": {
     "name": "#%%\n"
    }
   }
  },
  {
   "cell_type": "code",
   "execution_count": 6,
   "outputs": [
    {
     "data": {
      "text/plain": "         fid                        model       fake_image\n0  57.085854  network-snapshot-000000.pkl  fakes000000.png\n1  59.591817  network-snapshot-000040.pkl  fakes000040.png\n2  62.606670  network-snapshot-000080.pkl  fakes000080.png\n3  62.217534  network-snapshot-000120.pkl  fakes000120.png\n4  97.319817  network-snapshot-000160.pkl  fakes000160.png",
      "text/html": "<div>\n<style scoped>\n    .dataframe tbody tr th:only-of-type {\n        vertical-align: middle;\n    }\n\n    .dataframe tbody tr th {\n        vertical-align: top;\n    }\n\n    .dataframe thead th {\n        text-align: right;\n    }\n</style>\n<table border=\"1\" class=\"dataframe\">\n  <thead>\n    <tr style=\"text-align: right;\">\n      <th></th>\n      <th>fid</th>\n      <th>model</th>\n      <th>fake_image</th>\n    </tr>\n  </thead>\n  <tbody>\n    <tr>\n      <th>0</th>\n      <td>57.085854</td>\n      <td>network-snapshot-000000.pkl</td>\n      <td>fakes000000.png</td>\n    </tr>\n    <tr>\n      <th>1</th>\n      <td>59.591817</td>\n      <td>network-snapshot-000040.pkl</td>\n      <td>fakes000040.png</td>\n    </tr>\n    <tr>\n      <th>2</th>\n      <td>62.606670</td>\n      <td>network-snapshot-000080.pkl</td>\n      <td>fakes000080.png</td>\n    </tr>\n    <tr>\n      <th>3</th>\n      <td>62.217534</td>\n      <td>network-snapshot-000120.pkl</td>\n      <td>fakes000120.png</td>\n    </tr>\n    <tr>\n      <th>4</th>\n      <td>97.319817</td>\n      <td>network-snapshot-000160.pkl</td>\n      <td>fakes000160.png</td>\n    </tr>\n  </tbody>\n</table>\n</div>"
     },
     "execution_count": 6,
     "metadata": {},
     "output_type": "execute_result"
    }
   ],
   "source": [
    "df = pd.DataFrame.from_dict(results)\n",
    "df.head()"
   ],
   "metadata": {
    "collapsed": false,
    "pycharm": {
     "name": "#%%\n"
    }
   }
  },
  {
   "cell_type": "code",
   "execution_count": null,
   "outputs": [],
   "source": [
    "metrics = []\n",
    "for r in results:\n",
    "    if best_fid > results[i][\"results\"][\"fid50k_full\"]:\n",
    "        best_fid = results[i][\"results\"][\"fid50k_full\"]\n",
    "        best_pickle_path = results[i][\"snapshot_pkl\"]\n",
    "        metrics."
   ],
   "metadata": {
    "collapsed": false,
    "pycharm": {
     "name": "#%%\n"
    }
   }
  },
  {
   "cell_type": "code",
   "execution_count": 2,
   "outputs": [],
   "source": [
    "with open(\"/home/jarred/Documents/Datasets/SIW_KF/test/spoof/90/090-2-3-4-2/k_vs_sil.pkl\", \"rb\") as f:\n",
    "    dic = pickle.load(f)\n"
   ],
   "metadata": {
    "collapsed": false,
    "pycharm": {
     "name": "#%%\n"
    }
   }
  },
  {
   "cell_type": "code",
   "execution_count": 3,
   "outputs": [
    {
     "name": "stdout",
     "output_type": "stream",
     "text": [
      "[[2, 3, 4, 5, 6, 7, 8, 9, 10, 11, 12, 13, 14, 15, 16, 17, 18, 19, 20, 21, 22, 23, 24, 25, 26, 27, 28, 29, 30, 31, 32, 33, 34, 35, 36, 37, 38, 39, 40, 41, 42, 43, 44, 45, 46, 47, 48, 49, 50, 51, 52, 53, 54, 55, 56, 57, 58, 59, 60, 61, 62, 63, 64, 65, 66, 67, 68, 69, 70, 71, 72, 73, 74, 75, 76, 77, 78, 79, 80, 81, 82, 83, 84, 85, 86, 87, 88, 89, 90, 91, 92, 93, 94, 95, 96, 97, 98, 99, 100, 101, 102, 103, 104, 105, 106, 107, 108, 109, 110, 111, 112, 113, 114, 115, 116, 117, 118, 119, 120, 121, 122, 123, 124, 125, 126, 127, 128, 129, 130, 131, 132, 133, 134, 135, 136, 137, 138, 139, 140, 141, 142, 143, 144, 145, 146, 147, 148, 149, 150, 151, 152, 153, 154, 155, 156, 157, 158, 159, 160, 161, 162, 163, 164, 165, 166, 167, 168, 169, 170, 171, 172, 173, 174, 175, 176, 177, 178, 179, 180, 181, 182, 183, 184, 185, 186, 187, 188, 189, 190, 191, 192, 193, 194, 195, 196, 197, 198, 199, 200, 201, 202, 203, 204, 205, 206, 207, 208, 209, 210, 211, 212, 213, 214, 215, 216, 217, 218, 219, 220, 221, 222, 223, 224, 225, 226, 227, 228, 229, 230, 231, 232, 233, 234, 235, 236, 237, 238, 239, 240, 241, 242, 243, 244, 245, 246, 247, 248, 249, 250, 251, 252, 253, 254, 255, 256, 257, 258, 259, 260, 261, 262, 263, 264, 265, 266, 267, 268, 269, 270, 271, 272, 273, 274, 275, 276, 277, 278, 279, 280, 281, 282, 283, 284, 285, 286, 287, 288, 289, 290, 291, 292, 293, 294, 295, 296, 297, 298, 299, 300, 301, 302, 303, 304, 305, 306, 307, 308, 309, 310, 311, 312, 313, 314, 315], [0.2601396, 0.23425944, 0.23108819, 0.18945606, 0.23859148, 0.18945773, 0.20498633, 0.2104194, 0.21223213, 0.19334643, 0.19817565, 0.22178937, 0.21768609, 0.21400253, 0.18680759, 0.19186787, 0.1979011, 0.18524562, 0.19836585, 0.18954492, 0.18933561, 0.18758295, 0.19284472, 0.19402124, 0.20019124, 0.1937045, 0.19808373, 0.20496614, 0.20108841, 0.20259869, 0.20117055, 0.2027744, 0.19754507, 0.20547847, 0.19861333, 0.1951709, 0.19434865, 0.20208393, 0.20260474, 0.19949241, 0.1875544, 0.1932767, 0.19133049, 0.19150639, 0.19152914, 0.18701416, 0.18966655, 0.19686906, 0.18492264, 0.19747491, 0.18769975, 0.180161, 0.1859316, 0.1817572, 0.18264964, 0.18152536, 0.17937766, 0.17988037, 0.18120745, 0.18444762, 0.17852993, 0.18082455, 0.17081217, 0.18450923, 0.1813438, 0.17961217, 0.18837033, 0.18152584, 0.18552127, 0.18642634, 0.1791346, 0.17649621, 0.18067768, 0.17982598, 0.18139346, 0.18249413, 0.18010372, 0.17855062, 0.17823279, 0.17565103, 0.17987555, 0.1788464, 0.1749778, 0.17954738, 0.17648561, 0.17808123, 0.18072298, 0.18319702, 0.1775723, 0.172004, 0.17851603, 0.1794863, 0.18146363, 0.1734119, 0.17846015, 0.18059067, 0.17535293, 0.18419594, 0.17980658, 0.18067122, 0.18825446, 0.1865445, 0.18162425, 0.1889646, 0.1745959, 0.18131147, 0.17823198, 0.18331651, 0.18287946, 0.18099542, 0.18360375, 0.18043405, 0.18332821, 0.17015314, 0.1846867, 0.18409367, 0.17762278, 0.1786721, 0.17755836, 0.17830962, 0.17507982, 0.17498335, 0.17591198, 0.17507759, 0.17930186, 0.16742834, 0.16905843, 0.17219423, 0.17765819, 0.17157647, 0.17193656, 0.17403771, 0.17162384, 0.17493947, 0.17116135, 0.17437503, 0.16975066, 0.17233235, 0.1732647, 0.17398444, 0.16760619, 0.1707164, 0.17251098, 0.1730638, 0.16858944, 0.17098382, 0.16939877, 0.17338903, 0.1624666, 0.16570011, 0.1743155, 0.17729177, 0.16393358, 0.16830887, 0.17079338, 0.16778712, 0.16629924, 0.1732401, 0.16630094, 0.15961222, 0.17143914, 0.1739989, 0.16882321, 0.16079967, 0.16958167, 0.16223033, 0.16773713, 0.15829544, 0.161309, 0.1627155, 0.17009366, 0.16737475, 0.16405317, 0.16129354, 0.16089201, 0.16004503, 0.16305661, 0.16043977, 0.16716953, 0.1562949, 0.15965527, 0.1495171, 0.1593653, 0.16334802, 0.16041748, 0.16098548, 0.15505691, 0.15934025, 0.1590226, 0.16203691, 0.15211707, 0.1524486, 0.14764582, 0.1521173, 0.1506686, 0.16435984, 0.15203553, 0.15007582, 0.14841263, 0.14205353, 0.1595674, 0.15875453, 0.15229252, 0.15521114, 0.15013564, 0.14870189, 0.14281626, 0.14944007, 0.15958215, 0.1455656, 0.15011352, 0.15251297, 0.14413774, 0.14865984, 0.14616516, 0.14822109, 0.15038326, 0.14774129, 0.14936316, 0.13929118, 0.14233732, 0.14105007, 0.1379374, 0.13988797, 0.14067198, 0.1414863, 0.1463503, 0.13663714, 0.14102547, 0.13760495, 0.14710693, 0.14318073, 0.14338091, 0.13324569, 0.13877454, 0.13465971, 0.13439134, 0.12943369, 0.12132885, 0.13734657, 0.13453837, 0.13617432, 0.12902102, 0.13104387, 0.12819783, 0.13170314, 0.12518282, 0.13386786, 0.13203569, 0.12451816, 0.1299345, 0.1231222, 0.12173924, 0.12973088, 0.12676397, 0.13164769, 0.1271584, 0.12485075, 0.11184167, 0.12485294, 0.12041102, 0.11488625, 0.122301675, 0.11615938, 0.123762414, 0.12571175, 0.11941552, 0.115343966, 0.123757355, 0.12093957, 0.11946284, 0.12384167, 0.11318987, 0.121450275, 0.115122885, 0.11786006, 0.11627398, 0.11268925, 0.11207459, 0.124883465, 0.11380823, 0.11535292, 0.11320724, 0.10153319, 0.10370041, 0.111340314, 0.10817837, 0.11336131, 0.097084574, 0.11144576, 0.10397533, 0.10325815, 0.11438382, 0.107505344, 0.106007345, 0.1020092, 0.106619276, 0.109921165, 0.101516396, 0.10011647, 0.10581938, 0.10426631, 0.10318764, 0.094683945, 0.10380924, 0.10141983, 0.10286316, 0.0969616, 0.10073346, 0.09798826, 0.09779034, 0.09864886, 0.09828222, 0.10179207]]\n"
     ]
    }
   ],
   "source": [
    "print(dic)"
   ],
   "metadata": {
    "collapsed": false,
    "pycharm": {
     "name": "#%%\n"
    }
   }
  },
  {
   "cell_type": "code",
   "execution_count": 4,
   "outputs": [],
   "source": [
    "with open(\"/home/jarred/Documents/Datasets/SIW_KF_OLD/test/spoof/90/090-2-3-4-2/index_sil.pkl\", \"rb\") as f:\n",
    "    dic = pickle.load(f)"
   ],
   "metadata": {
    "collapsed": false,
    "pycharm": {
     "name": "#%%\n"
    }
   }
  },
  {
   "cell_type": "code",
   "execution_count": 5,
   "outputs": [
    {
     "name": "stdout",
     "output_type": "stream",
     "text": [
      "[[2, 3, 4, 5, 6, 7, 8, 9, 10, 11, 12, 13, 14, 15, 16, 17, 18, 19, 20, 21, 22, 23, 24, 25, 26, 27, 28, 29, 30, 31, 32, 33, 34, 35, 36, 37, 38, 39, 40, 41, 42, 43, 44, 45, 46, 47, 48, 49, 50, 51, 52, 53, 54, 55, 56, 57, 58, 59, 60, 61, 62, 63, 64, 65, 66, 67, 68, 69, 70, 71, 72, 73, 74, 75, 76, 77, 78, 79, 80, 81, 82, 83, 84, 85, 86, 87, 88, 89, 90, 91, 92, 93, 94, 95, 96, 97, 98, 99, 100, 101, 102, 103, 104, 105, 106, 107, 108, 109, 110, 111, 112, 113, 114, 115, 116, 117, 118, 119, 120, 121, 122, 123, 124, 125, 126, 127, 128, 129, 130, 131, 132, 133, 134, 135, 136, 137, 138, 139, 140, 141, 142, 143, 144, 145, 146, 147, 148, 149, 150, 151, 152, 153, 154, 155, 156, 157, 158, 159, 160, 161, 162, 163, 164, 165, 166, 167, 168, 169, 170, 171, 172, 173, 174, 175, 176, 177, 178, 179, 180, 181, 182, 183, 184, 185, 186, 187, 188, 189, 190, 191, 192, 193, 194, 195, 196, 197, 198, 199, 200, 201, 202, 203, 204, 205, 206, 207, 208, 209, 210, 211, 212, 213, 214, 215, 216, 217, 218, 219, 220, 221, 222, 223, 224, 225, 226, 227, 228, 229, 230, 231, 232, 233, 234, 235, 236, 237, 238, 239, 240, 241, 242, 243, 244, 245, 246, 247, 248, 249, 250, 251, 252, 253, 254, 255, 256, 257, 258, 259, 260, 261, 262, 263, 264, 265, 266, 267, 268, 269], [0.26096883, 0.26822898, 0.23108745, 0.18935527, 0.22971849, 0.19029348, 0.1982198, 0.20861407, 0.18772788, 0.21820031, 0.19189648, 0.21075755, 0.20349571, 0.21597649, 0.19973963, 0.19570062, 0.20319346, 0.19785874, 0.18796502, 0.19203314, 0.18519701, 0.18812723, 0.19277988, 0.19392687, 0.20024997, 0.20253289, 0.19781467, 0.20271328, 0.20003635, 0.19749862, 0.19616818, 0.19881774, 0.19961199, 0.19968773, 0.19822869, 0.19682652, 0.19459133, 0.19569013, 0.19332096, 0.19535525, 0.18964966, 0.19261993, 0.19520923, 0.1933962, 0.18969424, 0.18461014, 0.18804461, 0.19527873, 0.18557641, 0.18978944, 0.18507986, 0.18914157, 0.18420735, 0.18787082, 0.1785362, 0.18291731, 0.19059241, 0.17821737, 0.18723033, 0.1918068, 0.17561091, 0.18031187, 0.17917489, 0.1837298, 0.1800611, 0.18066677, 0.1821965, 0.17865804, 0.1754788, 0.18259068, 0.18456616, 0.1791197, 0.17501487, 0.18024516, 0.17781383, 0.1734142, 0.18217617, 0.17750391, 0.17628601, 0.17754596, 0.18498167, 0.17858312, 0.1760138, 0.18795715, 0.18641384, 0.18392487, 0.18295455, 0.17925148, 0.17134686, 0.1782347, 0.18510877, 0.17904483, 0.17271636, 0.18364127, 0.1759265, 0.17730072, 0.17957543, 0.18260406, 0.17762902, 0.18439955, 0.18353553, 0.17799781, 0.17590348, 0.18580756, 0.17293237, 0.18761544, 0.17696764, 0.17882848, 0.17835824, 0.1873813, 0.17179441, 0.18318617, 0.17922577, 0.18326694, 0.178479, 0.18263018, 0.17051265, 0.17457958, 0.18263902, 0.18130651, 0.17957875, 0.17913225, 0.17970927, 0.17713135, 0.17289563, 0.1814818, 0.17610785, 0.1743881, 0.17607005, 0.16871959, 0.16439256, 0.17804992, 0.16633408, 0.1678084]]\n"
     ]
    }
   ],
   "source": [
    "print(dic)"
   ],
   "metadata": {
    "collapsed": false,
    "pycharm": {
     "name": "#%%\n"
    }
   }
  },
  {
   "cell_type": "code",
   "execution_count": null,
   "outputs": [],
   "source": [],
   "metadata": {
    "collapsed": false,
    "pycharm": {
     "name": "#%%\n"
    }
   }
  }
 ],
 "metadata": {
  "kernelspec": {
   "display_name": "Python 3",
   "language": "python",
   "name": "python3"
  },
  "language_info": {
   "codemirror_mode": {
    "name": "ipython",
    "version": 2
   },
   "file_extension": ".py",
   "mimetype": "text/x-python",
   "name": "python",
   "nbconvert_exporter": "python",
   "pygments_lexer": "ipython2",
   "version": "2.7.6"
  }
 },
 "nbformat": 4,
 "nbformat_minor": 0
}